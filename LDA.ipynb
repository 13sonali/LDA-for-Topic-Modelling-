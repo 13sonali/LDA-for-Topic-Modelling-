{
 "cells": [
  {
   "cell_type": "markdown",
   "id": "3bfa8f6b",
   "metadata": {},
   "source": [
    "# Topic Modelling\n",
    "Topic modelling is a technique for automatically detecting subjects in a text item and deducing hidden patterns from a corpus of text. As a result, improved decision-making is aided."
   ]
  },
  {
   "cell_type": "code",
   "execution_count": 19,
   "id": "87f860f2",
   "metadata": {},
   "outputs": [
    {
     "name": "stderr",
     "output_type": "stream",
     "text": [
      "[nltk_data] Downloading package stopwords to\n",
      "[nltk_data]     /Users/sonaligadpandey/nltk_data...\n",
      "[nltk_data]   Package stopwords is already up-to-date!\n",
      "[nltk_data] Downloading package wordnet to\n",
      "[nltk_data]     /Users/sonaligadpandey/nltk_data...\n",
      "[nltk_data]   Package wordnet is already up-to-date!\n"
     ]
    }
   ],
   "source": [
    "#importing required libraries\n",
    "import nltk\n",
    "nltk.download('stopwords')\n",
    "nltk.download('wordnet')\n",
    "from nltk.corpus import stopwords \n",
    "from nltk.stem.wordnet import WordNetLemmatizer\n",
    "import string"
   ]
  },
  {
   "cell_type": "markdown",
   "id": "093aea09",
   "metadata": {},
   "source": [
    "# Preparaing a Dataset\n",
    "The sample documents have been combined to make a corpus."
   ]
  },
  {
   "cell_type": "code",
   "execution_count": 20,
   "id": "aae72854",
   "metadata": {},
   "outputs": [],
   "source": [
    "#preparation of dataset\n",
    "doc1 = \"Sugar is harmful to one's health. My sister enjoys sugar, but my father does not.\"\n",
    "doc2 = \"My father spends a significant amount of time driving my sister to dancing practise.\"\n",
    "doc3 = \"Doctors believe that driving causes tension and blood pressure to rise.\"\n",
    "doc4 = \"I'm under pressure to do well in school at times, but my father never appears to push my sister to do better.\"\n",
    "doc5 = \"Sugar, according to health professionals, is bad for your lifestyle.\""
   ]
  },
  {
   "cell_type": "code",
   "execution_count": 7,
   "id": "920df038",
   "metadata": {},
   "outputs": [
    {
     "name": "stdout",
     "output_type": "stream",
     "text": [
      "DATA:\n",
      "['Sugar is bad to consume. My sister likes to have sugar, but not my father.', 'My father spends a lot of time driving my sister around to dance practice.', 'Doctors suggest that driving may cause increased stress and blood pressure.', 'Sometimes I feel pressure to perform well at school, but my father never seems to drive my sister to do better.', 'Health experts say that Sugar is not good for your lifestyle.']\n"
     ]
    }
   ],
   "source": [
    "#compile documents\n",
    "complete_doc = [doc1, doc2, doc3, doc4, doc5]\n",
    "print(\"DATA:\")\n",
    "print(complete_doc)"
   ]
  },
  {
   "cell_type": "markdown",
   "id": "88284a2d",
   "metadata": {},
   "source": [
    "# Cleaning and pre-processing of the complete_doc\n",
    "Cleaning is a vital step before beginning any text mining assignment; we will remove punctuation, stopwords, and normalise the corpus in this stage."
   ]
  },
  {
   "cell_type": "code",
   "execution_count": 11,
   "id": "6a9e26f2",
   "metadata": {},
   "outputs": [
    {
     "name": "stdout",
     "output_type": "stream",
     "text": [
      "Cleaned Data: \n",
      "[['sugar', 'bad', 'consume', 'sister', 'like', 'sugar', 'father'], ['father', 'spends', 'lot', 'time', 'driving', 'sister', 'around', 'dance', 'practice'], ['doctor', 'suggest', 'driving', 'may', 'cause', 'increased', 'stress', 'blood', 'pressure'], ['sometimes', 'feel', 'pressure', 'perform', 'well', 'school', 'father', 'never', 'seems', 'drive', 'sister', 'better'], ['health', 'expert', 'say', 'sugar', 'good', 'lifestyle']]\n"
     ]
    }
   ],
   "source": [
    "stop = set(stopwords.words('english'))\n",
    "exclude = set(string.punctuation) \n",
    "lemma = WordNetLemmatizer()\n",
    "\n",
    "def clean(doc):\n",
    "    stop_free = \" \".join([i for i in doc.lower().split() if i not in stop])\n",
    "    punc_free = ''.join(ch for ch in stop_free if ch not in exclude)\n",
    "    normalized = \" \".join(lemma.lemmatize(word) for word in punc_free.split())\n",
    "    return normalized\n",
    "\n",
    "clean_doc = [clean(doc).split() for doc in complete_doc]    \n",
    "\n",
    "\n",
    "print('Cleaned Data: ')\n",
    "print(clean_doc)"
   ]
  },
  {
   "cell_type": "markdown",
   "id": "f32058d4",
   "metadata": {},
   "source": [
    "# Preparaing document - term matrix\n",
    "To run any mathematical model on text corpus, it is a good practise to turn it into a matrix format.\n",
    "In the entire DT matrix, the LDA model looks for repeating term patterns. \n",
    "“Gensim,” a clean and attractive framework for handling text data, is one of many fantastic Python libraries for text mining activities."
   ]
  },
  {
   "cell_type": "code",
   "execution_count": 16,
   "id": "9d347f72",
   "metadata": {},
   "outputs": [],
   "source": [
    "# Importing Gensim\n",
    "import gensim\n",
    "from gensim import corpora\n",
    "\n",
    "# Creating the term dictionary of our courpus, where every unique term is assigned an index. \n",
    "dictionary = corpora.Dictionary(clean_doc)\n",
    "\n",
    "# Converting list of documents (corpus) into Document Term Matrix using dictionary prepared above.\n",
    "doc_term_matrix = [dictionary.doc2bow(doc) for doc in clean_doc]"
   ]
  },
  {
   "cell_type": "markdown",
   "id": "2ab128aa",
   "metadata": {},
   "source": [
    "# Running a LDA Model\n",
    "The next step is to establish an LDA model object and train it on a Document-Term matrix. \n",
    "The training also necessitates the input of a few parameters, which are detailed in the preceding section. \n",
    "The gensim module provides for both LDA model estimate from a training corpus and topic distribution inference on new, unseen texts using the gensim module."
   ]
  },
  {
   "cell_type": "code",
   "execution_count": 18,
   "id": "fe7e69ee",
   "metadata": {},
   "outputs": [
    {
     "name": "stdout",
     "output_type": "stream",
     "text": [
      "[(0, '0.050*\"spends\" + 0.050*\"practice\" + 0.050*\"around\"'), (1, '0.076*\"sugar\" + 0.076*\"father\" + 0.076*\"sister\"'), (2, '0.065*\"driving\" + 0.065*\"pressure\" + 0.064*\"stress\"')]\n"
     ]
    }
   ],
   "source": [
    "# Creating the object for LDA model using gensim library\n",
    "Lda = gensim.models.ldamodel.LdaModel\n",
    "\n",
    "# Running and Trainign LDA model on the document term matrix.\n",
    "ldamodel = Lda(doc_term_matrix, num_topics=3, id2word = dictionary, passes=50)\n",
    "\n",
    "print(ldamodel.print_topics(num_topics=3, num_words=3))"
   ]
  },
  {
   "cell_type": "code",
   "execution_count": null,
   "id": "8a0eeff5",
   "metadata": {},
   "outputs": [],
   "source": []
  }
 ],
 "metadata": {
  "kernelspec": {
   "display_name": "Python 3 (ipykernel)",
   "language": "python",
   "name": "python3"
  },
  "language_info": {
   "codemirror_mode": {
    "name": "ipython",
    "version": 3
   },
   "file_extension": ".py",
   "mimetype": "text/x-python",
   "name": "python",
   "nbconvert_exporter": "python",
   "pygments_lexer": "ipython3",
   "version": "3.9.6"
  }
 },
 "nbformat": 4,
 "nbformat_minor": 5
}
