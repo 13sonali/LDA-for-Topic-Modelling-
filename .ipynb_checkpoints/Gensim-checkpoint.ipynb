{
 "cells": [
  {
   "cell_type": "code",
   "execution_count": 3,
   "id": "47d410df",
   "metadata": {},
   "outputs": [],
   "source": [
    "import pprint"
   ]
  },
  {
   "cell_type": "code",
   "execution_count": 4,
   "id": "6113e8c7",
   "metadata": {},
   "outputs": [],
   "source": [
    "#document refers to text. \n",
    "document = \"Gensim is an open source library in python\""
   ]
  },
  {
   "cell_type": "code",
   "execution_count": 5,
   "id": "4634d11e",
   "metadata": {},
   "outputs": [],
   "source": [
    "#corpus refers to collection of text or document\n",
    "corpus = [\"A survey of user opinion of computer system response time\",\n",
    "   \"Relation of user perceived response time to error measurement\",\n",
    "   \"The generation of random binary unordered trees\",\n",
    "   \"The intersection graph of paths in trees\",\n",
    "   \"Graph minors IV Widths of trees and well quasi ordering\",]"
   ]
  },
  {
   "cell_type": "code",
   "execution_count": 6,
   "id": "221a00ce",
   "metadata": {},
   "outputs": [
    {
     "name": "stdout",
     "output_type": "stream",
     "text": [
      "[['survey', 'user', 'opinion', 'computer', 'system', 'response', 'time'],\n",
      " ['relation', 'user', 'perceived', 'response', 'time', 'error', 'measurement'],\n",
      " ['generation', 'random', 'binary', 'unordered', 'trees'],\n",
      " ['intersection', 'graph', 'paths', 'trees'],\n",
      " ['graph', 'minors', 'iv', 'widths', 'trees', 'well', 'quasi', 'ordering']]\n"
     ]
    }
   ],
   "source": [
    "# Create a set of frequent words\n",
    "stoplist = set('for a of the and to in'.split(' '))\n",
    "# Lowercase each document, split it by white space and filter out stopwords\n",
    "texts = [[word for word in document.lower().split() if word not in stoplist]\n",
    "         for document in corpus]\n",
    "\n",
    "pprint.pprint(texts)"
   ]
  },
  {
   "cell_type": "code",
   "execution_count": 7,
   "id": "e5647360",
   "metadata": {},
   "outputs": [
    {
     "name": "stdout",
     "output_type": "stream",
     "text": [
      "[['user', 'response', 'time'],\n",
      " ['user', 'response', 'time'],\n",
      " ['trees'],\n",
      " ['graph', 'trees'],\n",
      " ['graph', 'trees']]\n"
     ]
    }
   ],
   "source": [
    "# Count word frequencies\n",
    "from collections import defaultdict\n",
    "frequency = defaultdict(int)\n",
    "for text in texts:\n",
    "    for token in text:\n",
    "        frequency[token] += 1\n",
    "\n",
    "# Only keep words that appear more than once\n",
    "processed_corpus = [[token for token in text if frequency[token] > 1] for text in texts]\n",
    "pprint.pprint(processed_corpus)"
   ]
  },
  {
   "cell_type": "code",
   "execution_count": 8,
   "id": "9bfb3feb",
   "metadata": {},
   "outputs": [
    {
     "name": "stdout",
     "output_type": "stream",
     "text": [
      "Dictionary(5 unique tokens: ['response', 'time', 'user', 'trees', 'graph'])\n"
     ]
    }
   ],
   "source": [
    "#assiging each word with unique integer ID\n",
    "from gensim import corpora\n",
    "dictionary = corpora.Dictionary(processed_corpus)\n",
    "print(dictionary)"
   ]
  },
  {
   "cell_type": "code",
   "execution_count": 9,
   "id": "4f6948b1",
   "metadata": {},
   "outputs": [
    {
     "name": "stdout",
     "output_type": "stream",
     "text": [
      "{'graph': 4, 'response': 0, 'time': 1, 'trees': 3, 'user': 2}\n"
     ]
    }
   ],
   "source": [
    "#converting processed corpus into a list of vector\n",
    "pprint.pprint(dictionary.token2id)"
   ]
  },
  {
   "cell_type": "code",
   "execution_count": 10,
   "id": "20c7b2a4",
   "metadata": {},
   "outputs": [
    {
     "name": "stdout",
     "output_type": "stream",
     "text": [
      "[[(0, 1), (1, 1), (2, 1)],\n",
      " [(0, 1), (1, 1), (2, 1)],\n",
      " [(3, 1)],\n",
      " [(3, 1), (4, 1)],\n",
      " [(3, 1), (4, 1)]]\n"
     ]
    }
   ],
   "source": [
    "BoW_corpus = [dictionary.doc2bow(text) for text in processed_corpus]\n",
    "pprint.pprint(BoW_corpus)"
   ]
  },
  {
   "cell_type": "code",
   "execution_count": 11,
   "id": "68d167f8",
   "metadata": {},
   "outputs": [
    {
     "name": "stdout",
     "output_type": "stream",
     "text": [
      "[(3, 0.4869354917707381), (4, 0.8734379353188121)]\n"
     ]
    }
   ],
   "source": [
    "from gensim import models\n",
    "tfidf = models.TfidfModel(BoW_corpus)\n",
    "words = \"trees graph\".lower().split()\n",
    "print(tfidf[dictionary.doc2bow(words)])"
   ]
  },
  {
   "cell_type": "code",
   "execution_count": 12,
   "id": "4e6ba396",
   "metadata": {},
   "outputs": [
    {
     "name": "stdout",
     "output_type": "stream",
     "text": [
      "[(0, 0.0), (1, 0.0), (2, 1.0), (3, 0.4869355), (4, 0.4869355)]\n"
     ]
    }
   ],
   "source": [
    "from gensim import similarities\n",
    "index = similarities.SparseMatrixSimilarity(tfidf[BoW_corpus],num_features=5)\n",
    "query_document = 'trees system'.split()\n",
    "query_bow = dictionary.doc2bow(query_document)\n",
    "simils = index[tfidf[query_bow]]\n",
    "print(list(enumerate(simils)))"
   ]
  },
  {
   "cell_type": "code",
   "execution_count": 13,
   "id": "57785851",
   "metadata": {},
   "outputs": [
    {
     "ename": "NameError",
     "evalue": "name 'sims' is not defined",
     "output_type": "error",
     "traceback": [
      "\u001b[0;31m---------------------------------------------------------------------------\u001b[0m",
      "\u001b[0;31mNameError\u001b[0m                                 Traceback (most recent call last)",
      "\u001b[0;32m/var/folders/5r/g7f15_s160gd8ng4q2882fqh0000gn/T/ipykernel_47191/1382121227.py\u001b[0m in \u001b[0;36m<module>\u001b[0;34m\u001b[0m\n\u001b[0;32m----> 1\u001b[0;31m \u001b[0;32mfor\u001b[0m \u001b[0mdoc_number\u001b[0m\u001b[0;34m,\u001b[0m \u001b[0mscore\u001b[0m \u001b[0;32min\u001b[0m \u001b[0msorted\u001b[0m\u001b[0;34m(\u001b[0m\u001b[0menumerate\u001b[0m\u001b[0;34m(\u001b[0m\u001b[0msims\u001b[0m\u001b[0;34m)\u001b[0m\u001b[0;34m,\u001b[0m \u001b[0mkey\u001b[0m\u001b[0;34m=\u001b[0m\u001b[0;32mlambda\u001b[0m \u001b[0mx\u001b[0m\u001b[0;34m:\u001b[0m \u001b[0mx\u001b[0m\u001b[0;34m[\u001b[0m\u001b[0;36m1\u001b[0m\u001b[0;34m]\u001b[0m\u001b[0;34m,\u001b[0m \u001b[0mreverse\u001b[0m\u001b[0;34m=\u001b[0m\u001b[0;32mTrue\u001b[0m\u001b[0;34m)\u001b[0m\u001b[0;34m:\u001b[0m\u001b[0;34m\u001b[0m\u001b[0;34m\u001b[0m\u001b[0m\n\u001b[0m\u001b[1;32m      2\u001b[0m    \u001b[0mprint\u001b[0m\u001b[0;34m(\u001b[0m\u001b[0mdoc_number\u001b[0m\u001b[0;34m,\u001b[0m \u001b[0mscore\u001b[0m\u001b[0;34m)\u001b[0m\u001b[0;34m\u001b[0m\u001b[0;34m\u001b[0m\u001b[0m\n",
      "\u001b[0;31mNameError\u001b[0m: name 'sims' is not defined"
     ]
    }
   ],
   "source": []
  },
  {
   "cell_type": "code",
   "execution_count": null,
   "id": "cc06240d",
   "metadata": {},
   "outputs": [],
   "source": []
  }
 ],
 "metadata": {
  "kernelspec": {
   "display_name": "Python 3 (ipykernel)",
   "language": "python",
   "name": "python3"
  },
  "language_info": {
   "codemirror_mode": {
    "name": "ipython",
    "version": 3
   },
   "file_extension": ".py",
   "mimetype": "text/x-python",
   "name": "python",
   "nbconvert_exporter": "python",
   "pygments_lexer": "ipython3",
   "version": "3.9.6"
  }
 },
 "nbformat": 4,
 "nbformat_minor": 5
}
